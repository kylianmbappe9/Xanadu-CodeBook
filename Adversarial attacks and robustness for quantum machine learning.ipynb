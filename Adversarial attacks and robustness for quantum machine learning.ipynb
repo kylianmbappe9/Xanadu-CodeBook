{
 "cells": [
  {
   "cell_type": "markdown",
   "metadata": {},
   "source": [
    "what is adversarial attack and why is it dangerous?\n",
    "\n",
    "#Adversarial attacks are small, carefully crafted perturbations to input data that lead to high rates of misclassification for machine learning models, while the data seems to be identical to the original for human observers.\n",
    "\n",
    "#hink of it like twins. One has medium sized hair and another does have medium sized hair owever, the length may differ. One gets blamed for something he didnt do even though when he recieves that information, he wont know what in the world is he listening so the final judgement output would be blamed on him, which is wrong. Thesse mistakes are extremely dangerous ESPECIALLY IN THE MEDICAL or CYBERSECURITY sector. I may be wrong but lets say that when they detect a tumor (Gliomal, Meningliomal or pituitary), they may identify a different tymor WHY? because of that little mishap along the way so the patient will be treated differently even though that tumor could be differnt OR not a tumor at all. Even for cyber secuirty, something which can be considered a SCAM, due to this adversible attack, the QC may pressume it is not something fishy or stuff and will actually place it through (transactions are core here)...   \n",
    "\n",
    "#how can we prevent such adversarial attacks"
   ]
  },
  {
   "cell_type": "markdown",
   "metadata": {},
   "source": [
    "#1) we first import the necessary modules \n",
    "\n",
    "my necessary modules are numpy, matplotlb, torch, pennylane"
   ]
  },
  {
   "cell_type": "code",
   "execution_count": 43,
   "metadata": {},
   "outputs": [],
   "source": [
    "import numpy as np\n",
    "import matplotlib.pyplot as plt\n",
    "import torch\n",
    "import pennylane as qml\n",
    "from pennylane import numpy as pnp"
   ]
  },
  {
   "cell_type": "markdown",
   "metadata": {},
   "source": [
    "What are [PlusMinus] data set"
   ]
  },
  {
   "cell_type": "markdown",
   "metadata": {},
   "source": [
    "plus minus data set consists for grayscale 16 x 16 images which consists of \n",
    "\n",
    "#1) + [plus dataset]\n",
    "#2) - [minus dataset]\n",
    "#3) ⊢ [horizontal T data set]\n",
    "#4) ⊣ [mirror horizaontal T data set]\n",
    "\n",
    "these data sets are mostly used in QML models whcih are scalabable, (low dimension images) something which the QPU can process\n",
    "\n"
   ]
  },
  {
   "cell_type": "markdown",
   "metadata": {},
   "source": [
    "QML image classification model\n",
    "\n",
    "#QML image classification model, builds a classical model (quantum model) that can accurately classify the input image which the quantum circuit has retrieved. While the QML model is to be trained, one thing that must be acknowledged is the presence of adversarial attacks when undergoing quantum processing of a specific input data"
   ]
  },
  {
   "cell_type": "markdown",
   "metadata": {},
   "source": [
    "lets import the already haved images inside the pennylane dataset\n",
    "\n",
    "#A QUICKL REMINER, TO MAKE USE OF PLUS-MINUS DATA SETS\n",
    "#YOU WILL NEED TO DOWNLOAD aiohttp, h5py and fsspec"
   ]
  },
  {
   "cell_type": "code",
   "execution_count": 44,
   "metadata": {},
   "outputs": [],
   "source": [
    "import pennylane as qml\n",
    "[pm] = qml.data.load('other', name='plus-minus')"
   ]
  },
  {
   "cell_type": "markdown",
   "metadata": {},
   "source": [
    "#so we have several train and test data sets which are already included in the plus-minus data set imported by pennylane. Here out of all the iamges, our X axis will be the iamges, while the Y axis will be the labels, respectively segregated each axis into training data set and testing data set"
   ]
  },
  {
   "cell_type": "code",
   "execution_count": 45,
   "metadata": {},
   "outputs": [],
   "source": [
    "X_train = pm.img_train\n",
    "X_test = pm.img_test\n",
    "Y_train = pm.labels_train\n",
    "Y_test = pm.labels_test"
   ]
  },
  {
   "cell_type": "markdown",
   "metadata": {},
   "source": [
    "#now randomly show an image that are assigned to each axis\n"
   ]
  },
  {
   "cell_type": "code",
   "execution_count": 46,
   "metadata": {},
   "outputs": [],
   "source": [
    "x_vis = [\n",
    "    (X_train[Y_train == 0])[0],\n",
    "    (X_train[Y_train == 1])[1],\n",
    "    (X_train[Y_train == 2])[2],\n",
    "    (X_train[Y_train == 3])[3],\n",
    "]\n",
    "y_vis = [0, 1, 2, 3]\n"
   ]
  },
  {
   "cell_type": "markdown",
   "metadata": {},
   "source": [
    "#1) creating a visualized function with my input imagfes, the label for those input images and (optional: whhether prediction label can be none or not)"
   ]
  },
  {
   "cell_type": "markdown",
   "metadata": {},
   "source": [
    "#2) i am setting the length of those images as a variable n"
   ]
  },
  {
   "cell_type": "markdown",
   "metadata": {},
   "source": [
    "#3) u2212 denotes -, u002b denotes +, ua714 denotes ⊢, u02e7 denotes ⊣\n",
    "why do we need that, on the previous code we have each image for Xtrain, Xtest, Ytrain, Ytest. From all those iamges, instead of assigning each images as [image 0 or image 1 or image 2 or image 3], we will simply set those images as either + or - or ⊣ or ⊢, how? the computer system will look at the image and analyse how does that graph look like"
   ]
  },
  {
   "cell_type": "markdown",
   "metadata": {},
   "source": [
    "#4) so for step 4, because we have 4 images to display we would typicallyt create a table where row 1 column1 has one image, row 1 column 2 has one image row 1 column 3 has one image and row 1 column 4 has one iamge. Each of those images are 8 inches wide and 2 inches tal"
   ]
  },
  {
   "cell_type": "markdown",
   "metadata": {},
   "source": [
    "#5) we want to go through every image that we have input or assigned at the moment so we make use of a for loop to go thorugh all the iamges"
   ]
  },
  {
   "cell_type": "markdown",
   "metadata": {},
   "source": [
    "6) for every images that we are going through, first we open one image from the axes data set, open the iamge, convert hte image to grayscale"
   ]
  },
  {
   "cell_type": "markdown",
   "metadata": {},
   "source": [
    "#7) for every image, if the prediction label is set to none, then for that specific iamge [ASSINGED IN X], we assign the true label [ASSIGNED IN Y IN CORREALTION TO X], else for that specific iamge [ASSINGED IN X], we assign the true label [ASSIGNED IN Y IN CORREALTION TO X] and the predicted label [PREDICTING ASSIGNED LABEL IN Y IN CORREALTION TO X]"
   ]
  },
  {
   "cell_type": "markdown",
   "metadata": {},
   "source": [
    "#8) space has been added between two iamges so as to not get clustered because if it clustered, it would be harder to read and harder to analyse"
   ]
  },
  {
   "cell_type": "code",
   "execution_count": 47,
   "metadata": {},
   "outputs": [
    {
     "name": "stdout",
     "output_type": "stream",
     "text": [
      "VISUALIZING THE DATA SET\n"
     ]
    },
    {
     "data": {
      "image/png": "[encoded data removed]",
      "text/plain": [
       "<Figure size 800x200 with 4 Axes>"
      ]
     },
     "metadata": {},
     "output_type": "display_data"
    }
   ],
   "source": [
    "print(\"VISUALIZING THE DATA SET\")\n",
    "import matplotlib.pyplot as plt\n",
    "\n",
    "##step 1\n",
    "def visualize_data(x, y, pred=None):\n",
    "    # Step 2\n",
    "    n = len(x)\n",
    "    \n",
    "    # Step 3\n",
    "    labels_list = [\"\\u2212\", \"\\u002b\", \"\\ua714\", \"\\u02e7\"]\n",
    "    \n",
    "    # Step 4\n",
    "    fig, axes = plt.subplots(1, 4, figsize=(8, 2))  \n",
    "    # Step 5\n",
    "    for i in range(n):\n",
    "        # Step 6\n",
    "        axes[i].imshow(x[i], cmap='gray')\n",
    "        \n",
    "        # Step 7\n",
    "        if pred is None:\n",
    "            axes[i].set_title('Label: {}'.format(labels_list[y[i]]))  \n",
    "        else:\n",
    "            axes[i].set_title('Label: {}, Pred: {}'.format(labels_list[y[i]], labels_list[pred[i]])) \n",
    "    \n",
    "    # Step 8\n",
    "    plt.tight_layout(w_pad=2)\n",
    "    plt.show()  # Added plt.show() to display the figure\n",
    "\n",
    "# Example usage\n",
    "visualize_data(x_vis, y_vis)\n",
    "\n",
    "\n",
    "\n",
    "\n"
   ]
  },
  {
   "cell_type": "markdown",
   "metadata": {},
   "source": [
    "STEP 1\n",
    "#1) 16x16 pixels\n",
    "#2) the overall prection outcome will be predicted amongst the 4 classes \n",
    "(the 4 random classes that we have assinged)\n",
    "#3) there will be 32 layers. More layers means more complex calculations\n",
    "#4) ther will be 8 input qubits\n",
    "#5) the number of times the data will be reuploaded so as in to rotate from classical data to quantum data"
   ]
  },
  {
   "cell_type": "code",
   "execution_count": 48,
   "metadata": {},
   "outputs": [
    {
     "name": "stdout",
     "output_type": "stream",
     "text": [
      "BUILDING THE QML CLASSIFIER CIRCUIT\n"
     ]
    }
   ],
   "source": [
    "print(\"BUILDING THE QML CLASSIFIER CIRCUIT\")\n",
    "\n",
    "#step 1\n",
    "input_dim = 256\n",
    "num_classes = 4\n",
    "num_layers = 32\n",
    "num_qubits = 8\n",
    "num_reup = 3"
   ]
  },
  {
   "cell_type": "markdown",
   "metadata": {},
   "source": [
    "while my GPU CUDA is installing, I will for now use CPU while I am aware that the running process will be slow, I will still use CPU just for learning purposes"
   ]
  },
  {
   "cell_type": "code",
   "execution_count": 49,
   "metadata": {},
   "outputs": [
    {
     "name": "stdout",
     "output_type": "stream",
     "text": [
      "using device cpu\n"
     ]
    }
   ],
   "source": [
    "#step 2\n",
    "import torch\n",
    "comp_processor = torch.device(\"cuda\" if torch.cuda.is_available() else \"cpu\")\n",
    "print(\"using device\", comp_processor)"
   ]
  },
  {
   "cell_type": "markdown",
   "metadata": {},
   "source": [
    "here we create a function called QML classifier because now we will be building a Quantum Classifier Model with our input torch.nn.Module\n",
    "\n",
    "few arguements to be assgined\n",
    "1) input_dim: dimensions of input samples\n",
    "2) output_dim: number of output dimensions: typically assigned as the number of classes\n",
    "3) num_qubits: number of qubits in a circuit\n",
    "4) num_layers: number of layers within the strongly entanglling layers"
   ]
  },
  {
   "cell_type": "markdown",
   "metadata": {},
   "source": [
    "#step 4: in step 4, first we create the def __init __function with our assigned attributes as self, input_dimensions (the dimension of the input samples), output_dim: (the dimension of the output, i.e. the numbers of classes), num_qubits (the number of qubits in the circuit), num_layers (the number of layers within the StronglyEntanglingLayers template). Here on, we also use a super init function where we include everything so this is why we arent segregating anything from def init function and super init funciton. torch.manual_seed(13337) this means that even if we were to run the code 13337 times, (obviously no one would but just to be safe), the overall output would remain the same"
   ]
  },
  {
   "cell_type": "markdown",
   "metadata": {},
   "source": [
    "qml.qnode(self.device) this is like a quantum node (just like a quantum pointer, that will link between the quantum circuit and the pytorch layer)"
   ]
  },
  {
   "cell_type": "markdown",
   "metadata": {},
   "source": [
    "#step 5: when building our quantum circuit, few key attributes that are in place are the inputs, typical input datas, weights (parameters or theta that control the quantum gate and bias, creates a shift or tweaks a little to a more favourable side)"
   ]
  },
  {
   "cell_type": "markdown",
   "metadata": {},
   "source": [
    "#step 6: torch.reshape the reason we do that is to resize or reshape (maybe crops the image deacreases pixel whatever) so that the input data fits into the quanutm circuit. "
   ]
  },
  {
   "cell_type": "markdown",
   "metadata": {},
   "source": [
    "#step 7: equation for the regular neural network is weight = weight * input + bias where we multiply the weight value with the input value and tweak a little so as to favour towards one point by adding with bias value. With all those with wires ranging from 0 to num_qubits we add a \"StronglyEntanglingLayers\" so as to add trhose layers, meaning more mathematical copmlex formulas\n"
   ]
  },
  {
   "cell_type": "markdown",
   "metadata": {},
   "source": [
    "#step 8: here for each of the output dimenstions, (so typically for each class) we will measure the average value in regards to pauli z operator because pauli Z consists of bit values 0 or 1 so it will typically collapse multiple solutions into either ket 0 or ket 1"
   ]
  },
  {
   "cell_type": "code",
   "execution_count": 50,
   "metadata": {},
   "outputs": [],
   "source": [
    "class QML_Classifier(torch.nn.Module):\n",
    "    \"\"\"\n",
    "    Step 1: Initialization of the QML_Classifier class\n",
    "    Args:\n",
    "        input_dim: the dimension of the input samples\n",
    "        output_dim: the dimension of the output, i.e. the number of classes\n",
    "        num_qubits: the number of qubits in the circuit\n",
    "        num_layers: the number of layers within the StronglyEntanglingLayers template\n",
    "    \"\"\"\n",
    "    \n",
    "    # Step 2: Constructor (init) method\n",
    "    def __init__(self, input_dim, output_dim, num_qubits, num_layers):\n",
    "        super().__init__()\n",
    "        torch.manual_seed(1337)  # Set seed for reproducibility\n",
    "        \n",
    "        # Step 3: Set class attributes\n",
    "        self.output_dim = output_dim\n",
    "        self.num_qubits = num_qubits\n",
    "        self.num_layers = num_layers\n",
    "\n",
    "        # Step 4: Define the quantum device\n",
    "        self.device = qml.device(\"lightning.qubit\", wires=self.num_qubits)\n",
    "\n",
    "        # Step 5: Define the shape of the weights for the Strongly Entangling Layers\n",
    "        self.weights_shape = qml.StronglyEntanglingLayers.shape(\n",
    "            n_layers=self.num_layers, n_wires=self.num_qubits\n",
    "        )\n",
    "\n",
    "        # Step 6: Define the quantum circuit\n",
    "        @qml.qnode(self.device)\n",
    "        def circuit(inputs, weights, bias):\n",
    "            # Step 7: Reshape the inputs to match the shape of the weights\n",
    "            inputs = torch.reshape(inputs, self.weights_shape)\n",
    "            \n",
    "            # Step 8: Apply the Strongly Entangling Layers with input transformation and bias\n",
    "            qml.StronglyEntanglingLayers(\n",
    "                weights=weights * (inputs + bias), wires=range(self.num_qubits)\n",
    "            )\n",
    "            \n",
    "            # Step 9: Measure the Pauli-Z expectation values for each qubit\n",
    "            return [qml.expval(qml.PauliZ(i)) for i in range(self.output_dim)]\n",
    "\n",
    "        # Step 10: Define the parameter shapes and initialize the parameters\n",
    "        param_shapes = {\"weights\": self.weights_shape, \"bias\": self.weights_shape}\n",
    "        init_vals = {\n",
    "            \"weights\": 0.1 * torch.rand(self.weights_shape),\n",
    "            \"bias\": 0.1 * torch.rand(self.weights_shape),\n",
    "        }\n",
    "\n",
    "        # Step 11: Initialize the quantum circuit with TorchLayer\n",
    "        self.qcircuit = qml.qnn.TorchLayer(\n",
    "            qnode=circuit, weight_shapes=param_shapes, init_method=init_vals\n",
    "        )\n",
    "\n",
    "    # Step 12: Define the forward pass for the model\n",
    "    def forward(self, x):\n",
    "        # Step 13: Re-upload inputs multiple times by stacking the input\n",
    "        inputs_stack = torch.hstack([x] * 3)  # Re-upload the inputs 3 times\n",
    "        \n",
    "        # Step 14: Pass the stacked inputs to the quantum circuit\n",
    "        return self.qcircuit(inputs_stack)\n",
    "\n",
    "\n",
    "\n"
   ]
  },
  {
   "cell_type": "markdown",
   "metadata": {},
   "source": [
    "#Hyperparameters and Data Preparation"
   ]
  },
  {
   "cell_type": "markdown",
   "metadata": {},
   "source": [
    "the learning_rate [0.1], epochs [4], and batch_szie [20] are relatively low values but only for learning purposes pennylane has assigned those values. However, the values are relativewly hgiher but given, even in my personal point of view, I would liek to compute it faster"
   ]
  },
  {
   "cell_type": "code",
   "execution_count": 51,
   "metadata": {},
   "outputs": [],
   "source": [
    "#step 1\n",
    "learning_rate = 0.1\n",
    "epochs = 4\n",
    "batch_size = 20"
   ]
  },
  {
   "cell_type": "code",
   "execution_count": 54,
   "metadata": {},
   "outputs": [],
   "source": [
    "import numpy as np\n",
    "import torch\n",
    "\n",
    "feats_train = torch.from_numpy(X_train[:200]).reshape(200, -1).to(comp_processor)\n",
    "feats_test = torch.from_numpy(X_test[:50]).reshape(50, -1).to(comp_processor)\n",
    "label_train = torch.from_numpy(Y_train[:200]).to(comp_processor)\n",
    "label_test = torch.from_numpy(Y_test[:50]).to(comp_processor)\n",
    "num_train = feats_train.shape[0]"
   ]
  }
 ],
 "metadata": {
  "kernelspec": {
   "display_name": "CWQ",
   "language": "python",
   "name": "python3"
  },
  "language_info": {
   "codemirror_mode": {
    "name": "ipython",
    "version": 3
   },
   "file_extension": ".py",
   "mimetype": "text/x-python",
   "name": "python",
   "nbconvert_exporter": "python",
   "pygments_lexer": "ipython3",
   "version": "3.12.5"
  }
 },
 "nbformat": 4,
 "nbformat_minor": 2
}
